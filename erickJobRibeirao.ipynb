{
  "nbformat": 4,
  "nbformat_minor": 0,
  "metadata": {
    "colab": {
      "name": "erickJobRibeirao.ipynb",
      "provenance": [],
      "authorship_tag": "ABX9TyNk3s61DkWfFzz6XFU/dZS2",
      "include_colab_link": true
    },
    "kernelspec": {
      "name": "python3",
      "display_name": "Python 3"
    },
    "language_info": {
      "name": "python"
    }
  },
  "cells": [
    {
      "cell_type": "markdown",
      "metadata": {
        "id": "view-in-github",
        "colab_type": "text"
      },
      "source": [
        "<a href=\"https://colab.research.google.com/github/Erick88santos/job-sp/blob/main/erickJobRibeirao.ipynb\" target=\"_parent\"><img src=\"https://colab.research.google.com/assets/colab-badge.svg\" alt=\"Open In Colab\"/></a>"
      ]
    },
    {
      "cell_type": "markdown",
      "source": [
        "#1)Observe o trecho de código abaixo:\n",
        "\n",
        "int INDICE = 13, SOMA = 0, K = 0;\n",
        "\n",
        "enquanto K < INDICE faça\n",
        "\n",
        "{\n",
        "\n",
        "K = K + 1;\n",
        "\n",
        "SOMA = SOMA + K;\n",
        "\n",
        "}\n",
        "\n",
        "imprimir(SOMA);\n",
        "\n",
        "\n",
        "\n",
        "Ao final do processamento, qual será o valor da variável SOMA?**"
      ],
      "metadata": {
        "id": "CPB_FuxLpF__"
      }
    },
    {
      "cell_type": "code",
      "execution_count": 1,
      "metadata": {
        "colab": {
          "base_uri": "https://localhost:8080/"
        },
        "id": "lS-7LfFmo0F9",
        "outputId": "5cb5a0b9-e59b-4c9a-b138-a5ab77531608"
      },
      "outputs": [
        {
          "output_type": "stream",
          "name": "stdout",
          "text": [
            "91\n"
          ]
        }
      ],
      "source": [
        "#RESPOSTA\n",
        "index = 13\n",
        "soma = 0\n",
        "k = 0\n",
        "\n",
        "while k < index:\n",
        " k = k+1\n",
        " soma = soma+k\n",
        "print(soma)\n"
      ]
    },
    {
      "cell_type": "markdown",
      "source": [
        "#2) Dado a sequência de Fibonacci, onde se inicia por 0 e 1 e o próximo valor sempre será a soma dos 2 valores anteriores (exemplo: 0, 1, 1, 2, 3, 5, 8, 13, 21, 34...), escreva um programa na linguagem que desejar onde, informado um número, ele calcule a sequência de Fibonacci e retorne uma mensagem avisando se o número informado pertence ou não a sequência.\n",
        "\n",
        "\n",
        "\n",
        "IMPORTANTE:\n",
        "\n",
        "Esse número pode ser informado através de qualquer entrada de sua preferência ou pode ser previamente definido no código;\n",
        "\n"
      ],
      "metadata": {
        "id": "2g3AIVZppciP"
      }
    },
    {
      "cell_type": "code",
      "source": [
        "print('*'*60)\n",
        "\n",
        "print('Sequência de Fibonacci')\n",
        "\n",
        "print('*'*60)\n",
        "\n",
        "n = int(input('Insira um numero para gerar a sequência de Fibonnaci: '))\n",
        "\n",
        "t1 = 0\n",
        "\n",
        "t2 = 1\n",
        "\n",
        "print('='*60)\n",
        "\n",
        "print('{} , {}'.format(t1, t2), end = '')\n",
        "\n",
        "cont = 3\n",
        "\n",
        "while cont <= n:\n",
        "\n",
        "    t3 = t1 + t2\n",
        "\n",
        "    print(', {}'.format(t3), end = '')\n",
        "\n",
        "    t1 = t2\n",
        "\n",
        "    t2 = t3\n",
        "\n",
        "    cont += 1\n",
        "\n",
        "print('\\n','='*60)\n",
        "\n"
      ],
      "metadata": {
        "colab": {
          "base_uri": "https://localhost:8080/"
        },
        "id": "DwEX-Otyp3vd",
        "outputId": "c7b905f0-c01a-4837-93ac-d0e718ac2dfa"
      },
      "execution_count": 103,
      "outputs": [
        {
          "output_type": "stream",
          "name": "stdout",
          "text": [
            "************************************************************\n",
            "Sequência de Fibonacci\n",
            "************************************************************\n",
            "Insira um numero para gerar a sequência de Fibonnaci: 13\n",
            "============================================================\n",
            "0 , 1, 1, 2, 3, 5, 8, 13, 21, 34, 55, 89, 144\n",
            " ============================================================\n"
          ]
        }
      ]
    },
    {
      "cell_type": "markdown",
      "source": [
        "#3) Descubra a lógica e complete o próximo elemento:\n",
        "\n",
        "\n",
        "\n",
        "a) 1, 3, 5, 7, **(9)**\n",
        "\n",
        "b) 2, 4, 8, 16, 32, 64, **(128)**\n",
        "\n",
        "c) 0, 1, 4, 9, 16, 25, 36, **(49)**\n",
        "\n",
        "d) 4, 16, 36, 64,  **(100)**\n",
        "\n",
        "e) 1, 1, 2, 3, 5, 8, **(13)**\n",
        "\n",
        "f) 2,10, 12, 16, 17, 18, 19,  **(200)**\n"
      ],
      "metadata": {
        "id": "I16rV9ZvuOfa"
      }
    },
    {
      "cell_type": "markdown",
      "source": [
        "#4 - Dois veículos (um carro e um caminhão) saem respectivamente de cidades opostas pela mesma rodovia. O carro de Ribeirão Preto em direção a Franca, a uma velocidade constante de 110 km/h e o caminhão de Franca em direção a Ribeirão Preto a uma velocidade constante de 80 km/h. Quando eles se cruzarem na rodovia, qual estará mais próximo a cidade de Ribeirão Preto?\n",
        "\n",
        "\n",
        "\n",
        "IMPORTANTE:\n",
        "\n",
        "a) Considerar a distância de 100km entre a cidade de Ribeirão Preto <-> Franca.\n",
        "\n",
        "b) Considerar 2 pedágios como obstáculo e que o caminhão leva 5 minutos a mais para passar em cada um deles e o carro possui tag de pedágio (Sem Parar)\n",
        "\n",
        "c) Explique como chegou no resultado.\n"
      ],
      "metadata": {
        "id": "Aexfq-jpHo_7"
      }
    },
    {
      "cell_type": "markdown",
      "source": [
        "O carro e o caminhão estão à mesma distância de Ribeirão Preto ao eles se cruzarem, eles se encontram a 60,9 km de Ribeirão Preto.\n",
        "\n",
        "Como se determinar o local de cruzamento?\n",
        "Para determinar o local em que o carro e o caminhão se cruzam podemos colocar o ponto de referência em Ribeirão Preto, então, a equação horária do carro é:\n",
        "\n",
        "\n",
        "\n",
        "Como o caminhão sai de um local 100 km distante do ponto de referência e se aproxima dele, sua equação horária é:\n",
        "\n",
        "\n",
        "\n",
        "Como o caminhão tem 2 pedágios como obstáculo e perde 5 minutos em cada um deles, podemos calcular o tempo de viagem sem os obstáculos:\n",
        "\n",
        "\n",
        "\n",
        "Porém, como perde 10 minutos (ou 0,17 horas) nos pedágios, o tempo de viagem para o caminhão será de 1,25h+0,17h=1,42h. Sua velocidade média é:\n",
        "\n",
        "\n",
        "\n",
        "Nas equações horárias podemos limpar o tempo e igualar ambas para achar o ponto em que o carro e o caminhão se cruzam:\n",
        "\n",
        "\n",
        "\n",
        "Essa é a distância da cidade de Ribeirão Preto em que o carro e o caminhão se cruzam, ambos estão à mesma distância."
      ],
      "metadata": {
        "id": "J010xOLCMg1D"
      }
    },
    {
      "cell_type": "markdown",
      "source": [
        "O carro e o caminhão estão à mesma distância de Ribeirão Preto ao eles se cruzarem, eles se encontram a 60,9 km de Ribeirão Preto.\n",
        "\n",
        "Como se determinar o local de cruzamento?\n",
        "Para determinar o local em que o carro e o caminhão se cruzam podemos colocar o ponto de referência em Ribeirão Preto, então, a equação horária do carro é:\n",
        "\n",
        "![image.png](data:image/png;base64,iVBORw0KGgoAAAANSUhEUgAAAEEAAAANCAYAAAD2bQNSAAABb0lEQVRIieWWzXGDMBBG38S+5EgLtKCrj7RASiAl2CXgEpISkhLsEkIJ5upbdM0tOezuIARkgDhw8DfD6IdFelqtFm24XzngS5+71TeQrg2xpjLgYo1N8CIBdlr3iJccUC+GNqxMS69livD6fvNB2ZpybV8B/xC8zIEKKIF98MHLLOzbqUS4TlFf+YcxnY4JkGy1UgAHrddqdER2oIo+LoDnERNNgTwM9OfAK7LrSdB/RDZqKldNs74noih3Qf0UTRACOSShLCXjKulGpDl5KlcrHwzpk7ZTYi3pBNOFJi+A8MWMY7k6Dt1GBjawHQH7hcxJjrc4DsaQAuegL0OOxBw54D0Y24OE04d2lnQTUKylI8HR8IGAZz12Q1w58EaTU8L7QQlNJHg1roNJQo+tqQrh2muZIMlyrGw99ks9I2vLiNZnIWfq87RpjZwAXcZYU7ha+cQuS572xaMvBxRItOyAx1/s/ksxo2kO1zVs/AA4eVJq4zj61wAAAABJRU5ErkJggg==)\n",
        "\n",
        "Como o caminhão sai de um local 100 km distante do ponto de referência e se aproxima dele, sua equação horária é:\n",
        "\n",
        "![image.png](data:image/png;base64,iVBORw0KGgoAAAANSUhEUgAAAIYAAAAOCAYAAADqmmQkAAACzklEQVRYhe2Y3XGjMBDHf5O7BpQSaIErgZRASsCP9+iUgEuIS4hLsEuwSzhKOErIPWjXWmRhY2L8cZP/DIOQFmm/tdIPvqHIgd9ABuxuzMvN8fPWDJyBCiiA18RYDbTyZMBC2ufSZBfk9xGRAw2HerlLFHijzoF1YryWR5En6IbQAGyBcjSnj49PHjA4CtLG/Is3tMWfqG8IjcMrxn2NzYdFgdcJAE9mwMmgekwm3/eMAs93XBM0hMgfQqN0O0IajeWPv3Mzt50jdsCpYG2FtMdEu8pV4nVSAO7JDJZ4xWjazvBCvo9i+/GQAxtpq/yVPOD1kxH0A15fW7wyK/nWrW9K1LLWOur7yro5IXicFp8V8CbtRogWhCjSH22EpIq3mPmheDtNMjkKvEwVsMTLNsc7Swms5F0Cvwiyt/KvyrAjOM4UKIU/RzdbLcy659iqIdj8Vdr7U8nKENrIUWGdMKTf6p2zIwLcg7GHwuHlzvC6UCW+mPFGxpdmXP97IaAQ2j4UDNuiNwQ7WKgha7p220n/GFspz3u+dSux+691DIWmVct0xf8DzYyq8Fi2naHbJP5rE319aAhGP/b0zaH9msUUuXyPsVUs18E9hhZOunhmvp+jiZYnFrvGVmL5tFGqkT2URoNBs8WHjNl/cg6L2DiItC5b0d2zLTqRORJaaMZOupD2ubZSnnXuFrznbaWz5rCgSU2y5vrHur7j6gfdiHD446k7g8beX9h1bK0wl3ks4nuPOaFYnzKj5gSbQf8JMmWrEi+H7bP3FzWEjNESjiu6iPUiu1CJ31P3njUxCvPkBGfVLDPDG2NDKBhnEW+naGzk21RtIz51VR5nDNVflaC9JHTbmxPqijgr9NlK7etM34ZQsHZsHp+B+7zPRsGUlfcYqPMcy2R9NPH53yX6UncEfX3XyqZ9dxdjbDXq/iXDp95P88Rp9Rv3gYvY6h+vEtlVDHNgdQAAAABJRU5ErkJggg==)\n",
        "\n",
        "Como o caminhão tem 2 pedágios como obstáculo e perde 5 minutos em cada um deles, podemos calcular o tempo de viagem sem os obstáculos:\n",
        "\n",
        "![image.png](data:image/png;base64,iVBORw0KGgoAAAANSUhEUgAAAJsAAAAaCAYAAACgjS7xAAAEbElEQVR4nO2bO3bjNhSGv3GyAbYpNUtglsAsgVkCp0wpL4HTphu36ewljNt08hLsdrpoCUpx8RuXEChKMkU9hv85PKQuQRC8uG9AcHsogW8Z+gJYAnU4D9F177Gnvxk/OWpM2DaZe49A4dq1A3ShBZpxhznjlpAKWwl8T2ivO+geK8zC4c66lpAWyb3S3ZsR8Ou5BzARFj20PrpQhGONWTfd+4pZwSpcF5iAEdq+YBbzC/D2wbFfG0qMN2/Ag7+RClsZGq2nGddkKA+kCxXGjwYTqtLRvwb6GngO5yXwR2izxIRzamFrwvj+PPC5ghizSsnuieOvsJDi2bVZhzYpckq8JWwr4DO3J2zP5AWrjy5I+QpsEqWpLxhDZcXAJuPJPbsgTswUqMKx5jgXvsQUSHPfkpcH8euJxHIFiDdPmXudwabxyrUijdkKjHFCSUwMcnRB8ZqP7epwbugmEz62a7AMts9VnxIV23HoEBbY3NcJbUNMjiTMQyjCc1sCfxc6rYh+tso1vBJ4AWiJzFljWijXJrfYRxcKjCdyJQ3RkpXu2rfV+9ZEN3zpyHky0Q6VhQrji76/4zkkbCviBOW0saAriH2DKLlcgdW37ku/Rhxj2XJoMAslWVDMtgznlvwct+H9DTEObAE+uUYbzD/nNLElavgCs4L3dDVbNS7FKZq8XACZ9r0vhvq6VozJg4puonIsVthc6n2yUJrzJhy/Dzy3NZ5d8VpD15dDN64Bi09yhc8++imwueBjSoxh2VqGV00Um1UZmrd4733duQH2ZU65bM1nGjVm7XKZifz2FPg04vEZi93G6u+a0GAe7EtCV1wrKKbz8+vjtZT2XvooiQKklF4PPGOSuQzXD3SFreVj7u0S3egbwzW4MXEpPJAXekhoL8QxKoGS9fKhlA+jIGbyTzh++kAw9+EFcd3wP9dW65B9ycCK7cXta8ACUzB9t7S3dr+VaSmTn1I4d2GXG63prgV7lMQEUYfP6NN5rDFZ8H2t6IZcS6I7fg+nvodGDV2m5VygH0DforeefeV8WalKGfquwtH7dnkIKqEoM9e5xBiqvvR9Cw6zTqeAhGOFzYkyRo8lJiDpvC4CfVe8qUBfCeKKbQVLDU9NjNs7bXOamQsSU81Ii4EQi6Xn1HbP6ML9HtrlAfbdVWjrF9xL117MhyjUl1juyeHYOFrlr77n+9aa9+KLr71Jc1IBkrbLvcgqTF05T/FKZIoszz67PCBm28tweFcixfK8eGT/Cvu5cbFKoUHtw8hLK+Y2mGv4RixA1mwL29SliXPCL7ZPjmtLyw+B4jQpwT0x7vIFzw1dPoxRff9oQfVU0E6NGSPCx1YQk5VcpvYzWbaz4m64yVXCL4qD1X5ewuHdvK8vDuESMs6rxi/nHsCJ8EaMTX4j7r74N9Aq4AfwF/B3uB6CNkf+M+pIZ9wMVCNLk5Zjdnnon1Yq4s6YcTJoQyR0C9szZowO7bwFSzK0T3/GnrjVBOEUSP+8oj+7zNgT/wMe4z1ObxI/gAAAAABJRU5ErkJggg==)\n",
        "\n",
        "Porém, como perde 10 minutos (ou 0,17 horas) nos pedágios, o tempo de viagem para o caminhão será de 1,25h+0,17h=1,42h. Sua velocidade média é:\n",
        "\n",
        "![image.png](data:image/png;base64,iVBORw0KGgoAAAANSUhEUgAAAJ0AAAAXCAYAAAARDU1oAAAD3UlEQVRoge2a7XGjMBCGn7tJA1wJXAkUcH9ICVwJTglOCXYJTglOCXEJlxKSEuISfD+kHS2yJAQGghO/Mwy2VgjpZSXth+B6UAE7r6wE1kBj7zmyEtgH2rohjW/HW4NRupNXvgcKVWeTKdsAq/G7+eXxLXnTSlcBL578LUMG8A8zc1F31H9R1sKTV0r2HRHjrRdnd1P1bgb4yqLLUrLCXkfMrJXyR1veADWwtf8rKz8Cr5gV9AF4v6z72ShnfFcKMd629OTsmpWuGiirMYNfYUiqPNnWyo7Awd7XwL2ts2ZeRZD3hSB92mD6ebR1t/Z3Lgradu/RtqER4603Z9esdAfiypWSVZjBFxiinpTsGUOOzFAwpD6rOqVtfy4UmP5qJdJKL7aqKEmFWVnuyUNh6z9ixlxhttFn2hMrxtsry+NsVGibrsCQIxCyu2Ril2i7r1F1V7SdDm3HrDDeW0l89Rkbm46yD84n2FugLNW+9kiLyDtTvA3mrObcOJyL2C7IoE72XqtyWbp3tImOycShKDDkafsEW1croXZAxAue04PzHZcNrr815x49mHGFFCeED9rjjSHF2yDONrYxXXmPWx2WjBKnhH1k14ia9se7VOnk+bVtVxQkd5UchDv7oiecdyLY4ozLynawULKUoZo7y8DYEpfgnbhRn5JNjSk4WAF/B/SlCwXOJnzFbI+/6eeM9IJotb+3S5m/x4fqTYnTgq85UXMeexxrpfN3gxPtFXVMzuqfOI+joe1xVDhvTnfgwLw2zY8FX3OiwX2rOaDt3DE5O0jIRJwG7dZK/AXgl1euwwwhTL29VhjFf+jxzAsujJAyF0pc3KtP+z7G5sAPQ4BTQj9uWNL9jcDF1ELI3VoH8yWxGd1QyAAXd/kzU0GxPGwKK1U/x1xYYo5RPHcfe9p9LTAeqc476zy0jx3twHBh39UncjGYrz3uVEaogQo36CWEUnKVrqatpBXmo2i535aOSS0l1xpTOgnuSv5zQzt8scaMN+bFSwhEQma+EufgIr5isTnZzgT+MaLPQI7SSfQ8VT8UHP3AjFGM9yUonjYHYvJUna7QUdfzMUzCV2kb1R7IEuJ3OUqnV4ZQ/ZC50ND2El+YOG41Axqmmzi9+crJvb7TdiSuBSuMoa1neG3LjhhiGoxzIblDcF47uBMTc3qNY0OOGk0Vc/tqfCURWrlSqTv/LF7MXPDzhhKhX4IdOwRTmwa9+fo5cYemgE4u6zwsGOUJHWnX9f9gtoAdzlzQ24Gc6pDfR9yxnmvEZFkFi6/G1yDkJK9v+ERc40qXwpS2yw03BLGE0MYNHfgPNt5RKL2ZFF0AAAAASUVORK5CYII=)\n",
        "\n",
        "Nas equações horárias podemos limpar o tempo e igualar ambas para achar o ponto em que o carro e o caminhão se cruzam:\n",
        "\n",
        "![image.png](data:image/png;base64,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)\n",
        "\n",
        "#ambos estão à mesma distância."
      ],
      "metadata": {
        "id": "Q0ifTDU3NMBp"
      }
    },
    {
      "cell_type": "markdown",
      "source": [
        "#5) Escreva um programa que inverta os caracteres de um string.\n",
        "\n",
        "\n",
        "\n",
        "IMPORTANTE:\n",
        "\n",
        "a) Essa string pode ser informada através de qualquer entrada de sua preferência ou pode ser previamente definida no código;\n",
        "\n",
        "b) Evite usar funções prontas, como, por exemplo, reverse;\n"
      ],
      "metadata": {
        "id": "edIJpgqiDdut"
      }
    },
    {
      "cell_type": "code",
      "source": [
        "n = \"estrela\"[::-1]\n",
        "print(n) "
      ],
      "metadata": {
        "colab": {
          "base_uri": "https://localhost:8080/"
        },
        "id": "gUSE1a7aDdII",
        "outputId": "8c47d01d-4058-4053-e6cb-a9c903d619bd"
      },
      "execution_count": 97,
      "outputs": [
        {
          "output_type": "stream",
          "name": "stdout",
          "text": [
            "alertse\n"
          ]
        }
      ]
    }
  ]
}